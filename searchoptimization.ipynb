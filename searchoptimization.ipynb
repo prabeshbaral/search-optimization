{
 "cells": [
  {
   "cell_type": "code",
   "execution_count": null,
   "metadata": {},
   "outputs": [],
   "source": []
  }
 ],
 "metadata": {
  "kernelspec": {
   "display_name": "Python 3",
   "language": "python",
   "name": "python3"
  },
  "language_info": {
   "name": "python",
   "version": "3.11.9"
  },
  "orig_nbformat": 4,
  "vscode": {
   "interpreter": {
    "hash": "deb8e47c829fb7b15b8aeb8809e174098d2129179b328231078390f47c8b2911"
   }
  }
 },
 "nbformat": 4,
 "nbformat_minor": 2
}
